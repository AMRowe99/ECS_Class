{
  "nbformat": 4,
  "nbformat_minor": 0,
  "metadata": {
    "colab": {
      "provenance": [],
      "include_colab_link": true
    },
    "kernelspec": {
      "name": "python3",
      "display_name": "Python 3"
    },
    "language_info": {
      "name": "python"
    }
  },
  "cells": [
    {
      "cell_type": "markdown",
      "metadata": {
        "id": "view-in-github",
        "colab_type": "text"
      },
      "source": [
        "<a href=\"https://colab.research.google.com/github/AMRowe99/ECS_Class/blob/main/CoolProp_demo.ipynb\" target=\"_parent\"><img src=\"https://colab.research.google.com/assets/colab-badge.svg\" alt=\"Open In Colab\"/></a>"
      ]
    },
    {
      "cell_type": "markdown",
      "source": [
        "# CoolProp - a handy tool for thermodynamics"
      ],
      "metadata": {
        "id": "4YA425GyO3-R"
      }
    },
    {
      "cell_type": "markdown",
      "source": [
        "The simulation of energy conversion processes involving open systems requires thermodynamic properties of pure substances and mixtures. For analytic simplicity we often use models such as *ideal gas* or *incompressible fluid*, etc. Sometimes, the work of determining property values and their change can be tedious. Thankfully, there are now free and accurate property calculators.\n",
        "\n",
        "One that I am familiar with is CoolProp. Let's test it - http://www.coolprop.org/contents.html\n",
        "\n",
        "You can find a table of the properties (input and output) and their units here http://www.coolprop.org/coolprop/HighLevelAPI.html#table-of-string-inputs-to-propssi-function"
      ],
      "metadata": {
        "id": "QabsA6AP4QvC"
      }
    },
    {
      "cell_type": "markdown",
      "source": [
        "## First we need to do some Python stuff..."
      ],
      "metadata": {
        "id": "TpjYcLFXPLoZ"
      }
    },
    {
      "cell_type": "code",
      "execution_count": null,
      "metadata": {
        "id": "M-kv7VJAGQvl"
      },
      "outputs": [],
      "source": [
        "# @title\n",
        "%pip install CoolProp"
      ]
    },
    {
      "cell_type": "code",
      "source": [
        "# @title\n",
        "from CoolProp.CoolProp import PropsSI\n",
        "import numpy as np"
      ],
      "metadata": {
        "id": "o0nIi3FP5yeL"
      },
      "execution_count": null,
      "outputs": []
    },
    {
      "cell_type": "markdown",
      "source": [
        "## Now we can play"
      ],
      "metadata": {
        "id": "019hSzZlPQmI"
      }
    },
    {
      "cell_type": "markdown",
      "source": [
        "- Let's find the density of carbon dioxide at restricted dead-state."
      ],
      "metadata": {
        "id": "xcCwDE6nPU_J"
      }
    },
    {
      "cell_type": "code",
      "source": [
        "# @title\n",
        "# Density of carbon dioxide at 100 bar and 25C\n",
        "den_co2=PropsSI('D', 'T', 298.15, 'P', 101.3e5, 'CO2')\n",
        "print(den_co2)"
      ],
      "metadata": {
        "collapsed": true,
        "id": "mnBJo4Y18ypi"
      },
      "execution_count": null,
      "outputs": []
    },
    {
      "cell_type": "markdown",
      "source": [
        "- Let's find the enthalpy of saturated R134a vapour at environmental temperature"
      ],
      "metadata": {
        "id": "ztdeZZM8Pj7i"
      }
    },
    {
      "cell_type": "code",
      "source": [
        "# @title\n",
        "# Saturated vapor enthalpy [J/kg] of R134a at 25C\n",
        "r134_h=PropsSI('H', 'T', 298.15, 'Q', 1, 'R134a')\n",
        "print(r134_h)"
      ],
      "metadata": {
        "id": "IzHC91xd9K9J"
      },
      "execution_count": null,
      "outputs": []
    },
    {
      "cell_type": "markdown",
      "source": [
        "## Take it up a notch...\n",
        "- get an array of values"
      ],
      "metadata": {
        "id": "Mi10YBYuPyyi"
      }
    },
    {
      "cell_type": "code",
      "source": [
        "# @title\n",
        "# We can input an array of property values and get an array back\n",
        "tvec=np.array([300, 350, 400, 450, 500])\n",
        "den_co2=PropsSI('D', 'T', tvec, 'P', 100e5, 'CO2')\n",
        "print(den_co2)"
      ],
      "metadata": {
        "collapsed": true,
        "id": "XE0_1r8Q9QAX"
      },
      "execution_count": null,
      "outputs": []
    },
    {
      "cell_type": "markdown",
      "source": [
        "- state change of water"
      ],
      "metadata": {
        "id": "ILG_OopxP8kv"
      }
    },
    {
      "cell_type": "code",
      "source": [
        "# @title\n",
        "# Water\n",
        "tvec=np.array([298, 673])\n",
        "h1, h2=PropsSI('Hmolar', 'T', tvec, 'P', 101.3e3, 'H2O')\n",
        "s1, s2=PropsSI('Smolar', 'T', tvec, 'P', 101.3e3, 'H2O')\n",
        "d1, d2=PropsSI('Dmolar', 'T', tvec, 'P', 101.3e3, 'H2O')"
      ],
      "metadata": {
        "id": "R0hV4OVzH3uy"
      },
      "execution_count": null,
      "outputs": []
    },
    {
      "cell_type": "code",
      "source": [
        "# @title\n",
        "dh=h2-h1\n",
        "ds=s2-s1\n",
        "dd=d2-d1\n",
        "print(dh,ds,dd)"
      ],
      "metadata": {
        "collapsed": true,
        "id": "83mbX_fwGR4J"
      },
      "execution_count": null,
      "outputs": []
    },
    {
      "cell_type": "markdown",
      "source": [
        "# Other fun information\n",
        "- what is the greenhouse warming potential (GWP) of R12"
      ],
      "metadata": {
        "id": "Ym5KZRY3QJXh"
      }
    },
    {
      "cell_type": "code",
      "source": [
        "# @title\n",
        "# What is the 100 year GWP of R12? i.e. how much more warming per kg of R12 as compared to 1 kg of CO2?\n",
        "PropsSI('GWP100', '', 0, '', 0, 'R12')"
      ],
      "metadata": {
        "collapsed": true,
        "id": "GlN5TbKTDRpM"
      },
      "execution_count": null,
      "outputs": []
    }
  ]
}